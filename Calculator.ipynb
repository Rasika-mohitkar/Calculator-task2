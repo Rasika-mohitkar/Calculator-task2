{
 "cells": [
  {
   "cell_type": "code",
   "execution_count": 5,
   "id": "b0ea16cd",
   "metadata": {},
   "outputs": [
    {
     "name": "stdout",
     "output_type": "stream",
     "text": [
      "Basic Scientific Calculator\n",
      "---------------------------\n",
      "Enter first number: 6\n",
      "Enter operation (+, -, *, /, **,): **\n",
      "Enter second number: 7\n",
      "Result: 279936.0\n"
     ]
    }
   ],
   "source": [
    "import calculator as c\n",
    "\n",
    "from calculator import *\n",
    "\n",
    "# main_calculator.py\n",
    "\n",
    "def main():\n",
    "    print(\"Basic Scientific Calculator\")\n",
    "    print(\"---------------------------\")\n",
    "\n",
    "    # Get user input\n",
    "    num1 = float(input(\"Enter first number: \"))\n",
    "    operation = input(\"Enter operation (+, -, *, /, **,): \")\n",
    "    num2 = float(input(\"Enter second number: \"))\n",
    "\n",
    "    # Perform the selected operation\n",
    "    if operation == '+':\n",
    "        result = c.add(num1, num2)\n",
    "    elif operation == '-':\n",
    "        result = c.subtract(num1, num2)\n",
    "    elif operation == '*':\n",
    "        result = c.multiply(num1, num2)\n",
    "    elif operation == '/':\n",
    "        result = c.divide(num1, num2)\n",
    "    elif operation == '**':\n",
    "        result = c.power(num1, num2)\n",
    "    else:\n",
    "        result = \"Invalid operation\"\n",
    "\n",
    "    # Display the result\n",
    "    print(f\"Result: {result}\")\n",
    "\n",
    "if __name__ == \"__main__\":\n",
    "    main()\n"
   ]
  },
  {
   "cell_type": "code",
   "execution_count": null,
   "id": "75aa9dee",
   "metadata": {},
   "outputs": [],
   "source": []
  },
  {
   "cell_type": "code",
   "execution_count": null,
   "id": "90812267",
   "metadata": {},
   "outputs": [],
   "source": []
  }
 ],
 "metadata": {
  "kernelspec": {
   "display_name": "Python 3 (ipykernel)",
   "language": "python",
   "name": "python3"
  },
  "language_info": {
   "codemirror_mode": {
    "name": "ipython",
    "version": 3
   },
   "file_extension": ".py",
   "mimetype": "text/x-python",
   "name": "python",
   "nbconvert_exporter": "python",
   "pygments_lexer": "ipython3",
   "version": "3.11.4"
  }
 },
 "nbformat": 4,
 "nbformat_minor": 5
}
